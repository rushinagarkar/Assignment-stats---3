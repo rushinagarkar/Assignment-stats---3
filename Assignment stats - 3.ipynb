{
 "cells": [
  {
   "cell_type": "markdown",
   "id": "88b12c39",
   "metadata": {},
   "source": [
    "#### Assignment stats - 3"
   ]
  },
  {
   "cell_type": "markdown",
   "id": "2905959d",
   "metadata": {},
   "source": [
    "##### 1. Blood glucose levels for obese patients have a mean of 100 with a standard deviation of 15. A researcher thinks that a diet high in raw cornstarch will have a positive effect on blood glucose levels. A sample of 36 patients who have tried the raw cornstarch diet have a mean glucose level of 108. Test the hypothesis that the raw cornstarch had an effect or not."
   ]
  },
  {
   "cell_type": "code",
   "execution_count": 2,
   "id": "1477cd8d",
   "metadata": {},
   "outputs": [],
   "source": [
    "import numpy as np"
   ]
  },
  {
   "cell_type": "code",
   "execution_count": 3,
   "id": "cdce1d9e",
   "metadata": {},
   "outputs": [
    {
     "data": {
      "text/plain": [
       "3.2"
      ]
     },
     "execution_count": 3,
     "metadata": {},
     "output_type": "execute_result"
    }
   ],
   "source": [
    "\n",
    "# H0: mew= 100\n",
    "# H1: mew > 100\n",
    "\n",
    "mew = 100\n",
    "std_dev = 15\n",
    "n=36\n",
    "x_bar = 108\n",
    "alpha = 0.05\n",
    "\n",
    "z = (x_bar - mew)/std_dev*np.sqrt(n)\n",
    "z"
   ]
  },
  {
   "cell_type": "markdown",
   "id": "33542fee",
   "metadata": {},
   "source": [
    "You can look at the probability by looking at z- table and p-value associated with 3.20 is 0.9993 i.e. probability of having value less than 108 is 0.9993 and more than or equals to 108 is (1-0.9993)=0.0007.\n",
    "\n",
    "It is less than 0.05 so we will reject the Null hypothesis i.e. there is raw cornstarch effect."
   ]
  },
  {
   "cell_type": "markdown",
   "id": "90ba328e",
   "metadata": {},
   "source": [
    "##### 2. In one state, 52% of the voters are Republicans, and 48% are Democrats. In a second state, 47% of the voters are Republicans, and 53% are Democrats. Suppose a simple random sample of 100 voters are surveyed from each state. What is the probability that the survey will show a greater percentage of Republican voters in the second state than in the first state?"
   ]
  },
  {
   "cell_type": "markdown",
   "id": "520c33c5",
   "metadata": {},
   "source": [
    "For this analysis, \n",
    "\n",
    "let P1 = the proportion of Republican voters in the first state, \n",
    "\n",
    "P2 = the proportion of Republican voters in the second state, \n",
    "\n",
    "p1 = the proportion of Republican voters in the sample from the first state, and \n",
    "\n",
    "p2 = the proportion of Republican voters in the sample from the second state. \n",
    "\n",
    "The number of voters sampled from the first state (n1) = 100, and the number of voters sampled from the second state (n2) = 100.\n",
    "\n",
    "The solution involves four steps.\n",
    "\n",
    "Make sure the sample size is big enough to model differences with a normal population. Because \n",
    "\n",
    "n1P1 = 100 * 0.52 = 52, n1(1 - P1) = 100 * 0.48 = 48, n2P2 = 100 * 0.47 = 47\n",
    "\n",
    "n2(1 - P2) = 100 * 0.53 = 53 are each greater than 10, the sample size is large enough.\n",
    "\n",
    "Find the mean of the difference in sample proportions: E(p1 - p2) = P1 - P2 = 0.52 - 0.47 = 0.05.\n",
    "\n",
    "Find the standard deviation of the difference.\n",
    "σd = sqrt{ [ P1(1 - P1) / n1 ] + [ P2(1 - P2) / n2 ] }\n",
    "σd = sqrt{ [ (0.52)(0.48) / 100 ] + [ (0.47)(0.53) / 100 ] }\n",
    "σd = sqrt (0.002496 + 0.002491) = sqrt(0.004987) = 0.0706\n",
    "\n",
    "\n",
    "Find the probability. This problem requires us to find the probability that p1 is less than p2. This is equivalent to finding the probability that p1 - p2 is less than zero. To find this probability, we need to transform the random variable (p1 - p2) into a z-score. That transformation appears below.\n",
    "\n",
    "\n",
    "z p1 - p2 = (x - μ p1 - p2 ) / σd = = (0 - 0.05)/0.0706 = -0.7082\n",
    "Using Stat Trek's Normal Distribution Calculator, we find that the probability of a z-score being -0.7082 or less is 0.24.\n",
    "\n",
    "\n",
    "Therefore, the probability that the survey will show a greater percentage of Republican voters in the second state than in the first state is 0.24."
   ]
  },
  {
   "cell_type": "markdown",
   "id": "ee4a28c8",
   "metadata": {},
   "source": [
    "##### 3. You take the SAT and score 1100. The mean score for the SAT is 1026 and the standard deviation is 209. How well did you score on the test compared to the average test taker?"
   ]
  },
  {
   "cell_type": "code",
   "execution_count": 5,
   "id": "62d55b1c",
   "metadata": {},
   "outputs": [
    {
     "name": "stdout",
     "output_type": "stream",
     "text": [
      "0.35406698564593303\n"
     ]
    }
   ],
   "source": [
    "xi = 1100\n",
    "x_mean = 1026\n",
    "std_dev = 209\n",
    "\n",
    "z = (xi-x_mean)/std_dev\n",
    "print(z)\n",
    "\n",
    "# This means that your score was .354 std devs above the mean"
   ]
  },
  {
   "cell_type": "code",
   "execution_count": null,
   "id": "a66b62a6",
   "metadata": {},
   "outputs": [],
   "source": []
  }
 ],
 "metadata": {
  "kernelspec": {
   "display_name": "Python 3",
   "language": "python",
   "name": "python3"
  },
  "language_info": {
   "codemirror_mode": {
    "name": "ipython",
    "version": 3
   },
   "file_extension": ".py",
   "mimetype": "text/x-python",
   "name": "python",
   "nbconvert_exporter": "python",
   "pygments_lexer": "ipython3",
   "version": "3.9.1"
  }
 },
 "nbformat": 4,
 "nbformat_minor": 5
}
